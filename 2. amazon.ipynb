{
 "cells": [
  {
   "cell_type": "code",
   "execution_count": 1,
   "metadata": {},
   "outputs": [],
   "source": [
    "import gc\n",
    "import gzip\n",
    "import json\n",
    "from tqdm import tqdm_notebook\n",
    "from nltk import word_tokenize, sent_tokenize"
   ]
  },
  {
   "cell_type": "code",
   "execution_count": 2,
   "metadata": {},
   "outputs": [
    {
     "name": "stderr",
     "output_type": "stream",
     "text": [
      "Z:\\Anaconda\\lib\\site-packages\\ipykernel_launcher.py:11: TqdmDeprecationWarning: This function will be removed in tqdm==5.0.0\n",
      "Please use `tqdm.notebook.tqdm` instead of `tqdm.tqdm_notebook`\n",
      "  # This is added back by InteractiveShellApp.init_path()\n"
     ]
    },
    {
     "data": {
      "application/vnd.jupyter.widget-view+json": {
       "model_id": "d98f1d09b4684dd4a49d5287bbfaf4d4",
       "version_major": 2,
       "version_minor": 0
      },
      "text/plain": [
       "HBox(children=(FloatProgress(value=1.0, bar_style='info', max=1.0), HTML(value='')))"
      ]
     },
     "metadata": {},
     "output_type": "display_data"
    },
    {
     "name": "stdout",
     "output_type": "stream",
     "text": [
      "\n"
     ]
    }
   ],
   "source": [
    "import time\n",
    "def parse(path):\n",
    "  g = gzip.open(path, 'r')\n",
    "  for l in g:\n",
    "    yield json.loads(l) # generator which yields next object from a json file\n",
    "path = 'C:/Users/Saurabh/Desktop/Projects/NLP/Word2Vec/Amazon-dataset/All_Amazon_Review.json.gz'\n",
    "ctr = 0\n",
    "fid = 554 # from where you wantto resume coz the file is too big to parse in one day\n",
    "data = []\n",
    "flag = True\n",
    "for d in tqdm_notebook(parse(path)):\n",
    "    ctr += 1\n",
    "    if ctr <= 276500000 and flag: # to skip the data entered already\n",
    "        continue\n",
    "    if flag:\n",
    "        print('Extraction started ..')\n",
    "        ctr = 0\n",
    "        flag = False\n",
    "    try:\n",
    "        # the review - text is tokenized\n",
    "        for sent in sent_tokenize(d['reviewText']):\n",
    "            data.append(word_tokenize(sent))\n",
    "    except:\n",
    "        continue\n",
    "    # dump the file in json format at set intervals\n",
    "    if ctr == 500000:\n",
    "        # store the data\n",
    "        with open ('C:/Users/Saurabh/Desktop/Projects/NLP/Word2Vec/Amazon-dataset/description-' + str(fid) + '.json', 'w') as fp:\n",
    "            json.dump(data, fp)\n",
    "        print(fid, ' - file dumped..')\n",
    "        fid += 1\n",
    "        del data # delete the variable\n",
    "        time.sleep(10)\n",
    "        gc.collect() # clean ram\n",
    "        data = []\n",
    "        ctr = 0\n",
    "        \n",
    "# store the data\n",
    "with open ('C:/Users/Saurabh/Desktop/Projects/NLP/Word2Vec/Amazon-dataset/description-' + str(fid) + '.json', 'w') as fp:\n",
    "    json.dump(data, fp)"
   ]
  },
  {
   "cell_type": "code",
   "execution_count": null,
   "metadata": {},
   "outputs": [],
   "source": []
  }
 ],
 "metadata": {
  "kernelspec": {
   "display_name": "Python 3",
   "language": "python",
   "name": "python3"
  },
  "language_info": {
   "codemirror_mode": {
    "name": "ipython",
    "version": 3
   },
   "file_extension": ".py",
   "mimetype": "text/x-python",
   "name": "python",
   "nbconvert_exporter": "python",
   "pygments_lexer": "ipython3",
   "version": "3.8.3"
  }
 },
 "nbformat": 4,
 "nbformat_minor": 2
}
