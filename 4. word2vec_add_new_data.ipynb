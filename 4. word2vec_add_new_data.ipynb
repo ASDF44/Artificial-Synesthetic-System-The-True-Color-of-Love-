{
  "nbformat": 4,
  "nbformat_minor": 0,
  "metadata": {
    "colab": {
      "name": "word2vec_add_new_data.ipynb",
      "provenance": [],
      "collapsed_sections": [],
      "machine_shape": "hm"
    },
    "kernelspec": {
      "name": "python3",
      "display_name": "Python 3"
    },
    "widgets": {
      "application/vnd.jupyter.widget-state+json": {
        "638cae0be9d446338240d4213d317aab": {
          "model_module": "@jupyter-widgets/controls",
          "model_name": "HBoxModel",
          "state": {
            "_view_name": "HBoxView",
            "_dom_classes": [],
            "_model_name": "HBoxModel",
            "_view_module": "@jupyter-widgets/controls",
            "_model_module_version": "1.5.0",
            "_view_count": null,
            "_view_module_version": "1.5.0",
            "box_style": "",
            "layout": "IPY_MODEL_cbffc03211ad4ba48fe0b708618a8de7",
            "_model_module": "@jupyter-widgets/controls",
            "children": [
              "IPY_MODEL_57d85561e9eb47d2810cbf095ab62589",
              "IPY_MODEL_0fb476825dff48749d428547a660c6cf"
            ]
          }
        },
        "cbffc03211ad4ba48fe0b708618a8de7": {
          "model_module": "@jupyter-widgets/base",
          "model_name": "LayoutModel",
          "state": {
            "_view_name": "LayoutView",
            "grid_template_rows": null,
            "right": null,
            "justify_content": null,
            "_view_module": "@jupyter-widgets/base",
            "overflow": null,
            "_model_module_version": "1.2.0",
            "_view_count": null,
            "flex_flow": null,
            "width": null,
            "min_width": null,
            "border": null,
            "align_items": null,
            "bottom": null,
            "_model_module": "@jupyter-widgets/base",
            "top": null,
            "grid_column": null,
            "overflow_y": null,
            "overflow_x": null,
            "grid_auto_flow": null,
            "grid_area": null,
            "grid_template_columns": null,
            "flex": null,
            "_model_name": "LayoutModel",
            "justify_items": null,
            "grid_row": null,
            "max_height": null,
            "align_content": null,
            "visibility": null,
            "align_self": null,
            "height": null,
            "min_height": null,
            "padding": null,
            "grid_auto_rows": null,
            "grid_gap": null,
            "max_width": null,
            "order": null,
            "_view_module_version": "1.2.0",
            "grid_template_areas": null,
            "object_position": null,
            "object_fit": null,
            "grid_auto_columns": null,
            "margin": null,
            "display": null,
            "left": null
          }
        },
        "57d85561e9eb47d2810cbf095ab62589": {
          "model_module": "@jupyter-widgets/controls",
          "model_name": "FloatProgressModel",
          "state": {
            "_view_name": "ProgressView",
            "style": "IPY_MODEL_b571d4e5f2654533a0b250960226c1ab",
            "_dom_classes": [],
            "description": "100%",
            "_model_name": "FloatProgressModel",
            "bar_style": "success",
            "max": 30,
            "_view_module": "@jupyter-widgets/controls",
            "_model_module_version": "1.5.0",
            "value": 30,
            "_view_count": null,
            "_view_module_version": "1.5.0",
            "orientation": "horizontal",
            "min": 0,
            "description_tooltip": null,
            "_model_module": "@jupyter-widgets/controls",
            "layout": "IPY_MODEL_5955a2d2e78e4271b6eb97282dbaaeb6"
          }
        },
        "0fb476825dff48749d428547a660c6cf": {
          "model_module": "@jupyter-widgets/controls",
          "model_name": "HTMLModel",
          "state": {
            "_view_name": "HTMLView",
            "style": "IPY_MODEL_0a758063340a43c09dd468f653539373",
            "_dom_classes": [],
            "description": "",
            "_model_name": "HTMLModel",
            "placeholder": "​",
            "_view_module": "@jupyter-widgets/controls",
            "_model_module_version": "1.5.0",
            "value": " 30/30 [2:20:46&lt;00:00, 281.56s/it]",
            "_view_count": null,
            "_view_module_version": "1.5.0",
            "description_tooltip": null,
            "_model_module": "@jupyter-widgets/controls",
            "layout": "IPY_MODEL_375b8fcf928d4042bb38a7cf9b40f49f"
          }
        },
        "b571d4e5f2654533a0b250960226c1ab": {
          "model_module": "@jupyter-widgets/controls",
          "model_name": "ProgressStyleModel",
          "state": {
            "_view_name": "StyleView",
            "_model_name": "ProgressStyleModel",
            "description_width": "initial",
            "_view_module": "@jupyter-widgets/base",
            "_model_module_version": "1.5.0",
            "_view_count": null,
            "_view_module_version": "1.2.0",
            "bar_color": null,
            "_model_module": "@jupyter-widgets/controls"
          }
        },
        "5955a2d2e78e4271b6eb97282dbaaeb6": {
          "model_module": "@jupyter-widgets/base",
          "model_name": "LayoutModel",
          "state": {
            "_view_name": "LayoutView",
            "grid_template_rows": null,
            "right": null,
            "justify_content": null,
            "_view_module": "@jupyter-widgets/base",
            "overflow": null,
            "_model_module_version": "1.2.0",
            "_view_count": null,
            "flex_flow": null,
            "width": null,
            "min_width": null,
            "border": null,
            "align_items": null,
            "bottom": null,
            "_model_module": "@jupyter-widgets/base",
            "top": null,
            "grid_column": null,
            "overflow_y": null,
            "overflow_x": null,
            "grid_auto_flow": null,
            "grid_area": null,
            "grid_template_columns": null,
            "flex": null,
            "_model_name": "LayoutModel",
            "justify_items": null,
            "grid_row": null,
            "max_height": null,
            "align_content": null,
            "visibility": null,
            "align_self": null,
            "height": null,
            "min_height": null,
            "padding": null,
            "grid_auto_rows": null,
            "grid_gap": null,
            "max_width": null,
            "order": null,
            "_view_module_version": "1.2.0",
            "grid_template_areas": null,
            "object_position": null,
            "object_fit": null,
            "grid_auto_columns": null,
            "margin": null,
            "display": null,
            "left": null
          }
        },
        "0a758063340a43c09dd468f653539373": {
          "model_module": "@jupyter-widgets/controls",
          "model_name": "DescriptionStyleModel",
          "state": {
            "_view_name": "StyleView",
            "_model_name": "DescriptionStyleModel",
            "description_width": "",
            "_view_module": "@jupyter-widgets/base",
            "_model_module_version": "1.5.0",
            "_view_count": null,
            "_view_module_version": "1.2.0",
            "_model_module": "@jupyter-widgets/controls"
          }
        },
        "375b8fcf928d4042bb38a7cf9b40f49f": {
          "model_module": "@jupyter-widgets/base",
          "model_name": "LayoutModel",
          "state": {
            "_view_name": "LayoutView",
            "grid_template_rows": null,
            "right": null,
            "justify_content": null,
            "_view_module": "@jupyter-widgets/base",
            "overflow": null,
            "_model_module_version": "1.2.0",
            "_view_count": null,
            "flex_flow": null,
            "width": null,
            "min_width": null,
            "border": null,
            "align_items": null,
            "bottom": null,
            "_model_module": "@jupyter-widgets/base",
            "top": null,
            "grid_column": null,
            "overflow_y": null,
            "overflow_x": null,
            "grid_auto_flow": null,
            "grid_area": null,
            "grid_template_columns": null,
            "flex": null,
            "_model_name": "LayoutModel",
            "justify_items": null,
            "grid_row": null,
            "max_height": null,
            "align_content": null,
            "visibility": null,
            "align_self": null,
            "height": null,
            "min_height": null,
            "padding": null,
            "grid_auto_rows": null,
            "grid_gap": null,
            "max_width": null,
            "order": null,
            "_view_module_version": "1.2.0",
            "grid_template_areas": null,
            "object_position": null,
            "object_fit": null,
            "grid_auto_columns": null,
            "margin": null,
            "display": null,
            "left": null
          }
        }
      }
    }
  },
  "cells": [
    {
      "cell_type": "code",
      "metadata": {
        "id": "m5-7LaZKmVrp",
        "colab_type": "code",
        "colab": {}
      },
      "source": [
        "# import all the required libraries\n",
        "from gensim.models import Word2Vec\n",
        "import json\n",
        "from tqdm import tqdm_notebook"
      ],
      "execution_count": 0,
      "outputs": []
    },
    {
      "cell_type": "code",
      "metadata": {
        "id": "2vq5QQQEVQKG",
        "colab_type": "code",
        "outputId": "f063bbdc-dccd-4dfc-ff16-f2a562d63b13",
        "colab": {
          "base_uri": "https://localhost:8080/",
          "height": 87
        }
      },
      "source": [
        "# load the created model from drive\n",
        "model = Word2Vec.load('/content/drive/My Drive/Word2Vec/combined-model/model.model') \n",
        "print('model loaded')"
      ],
      "execution_count": 0,
      "outputs": [
        {
          "output_type": "stream",
          "text": [
            "/usr/local/lib/python3.6/dist-packages/smart_open/smart_open_lib.py:253: UserWarning: This function is deprecated, use smart_open.open instead. See the migration notes for details: https://github.com/RaRe-Technologies/smart_open/blob/master/README.rst#migrating-to-the-new-open-function\n",
            "  'See the migration notes for details: %s' % _MIGRATION_NOTES_URL\n"
          ],
          "name": "stderr"
        },
        {
          "output_type": "stream",
          "text": [
            "model loaded\n"
          ],
          "name": "stdout"
        }
      ]
    },
    {
      "cell_type": "code",
      "metadata": {
        "id": "toAe4fP9g_Jx",
        "colab_type": "code",
        "outputId": "406340ad-91e6-4689-d2fb-0db8dfc47b9c",
        "colab": {
          "base_uri": "https://localhost:8080/",
          "height": 70
        }
      },
      "source": [
        "# set the min_count as 2\n",
        "model.min_count = 2"
      ],
      "execution_count": 0,
      "outputs": [
        {
          "output_type": "stream",
          "text": [
            "/usr/local/lib/python3.6/dist-packages/ipykernel_launcher.py:1: DeprecationWarning: Call to deprecated `min_count` (Attribute will be removed in 4.0.0, use self.vocabulary.min_count instead).\n",
            "  \"\"\"Entry point for launching an IPython kernel.\n"
          ],
          "name": "stderr"
        }
      ]
    },
    {
      "cell_type": "code",
      "metadata": {
        "id": "Qy0jddbDxQ3-",
        "colab_type": "code",
        "outputId": "a3e74a60-48b2-4463-b993-fd6c8be88646",
        "colab": {
          "base_uri": "https://localhost:8080/",
          "height": 623,
          "referenced_widgets": [
            "638cae0be9d446338240d4213d317aab",
            "cbffc03211ad4ba48fe0b708618a8de7",
            "57d85561e9eb47d2810cbf095ab62589",
            "0fb476825dff48749d428547a660c6cf",
            "b571d4e5f2654533a0b250960226c1ab",
            "5955a2d2e78e4271b6eb97282dbaaeb6",
            "0a758063340a43c09dd468f653539373",
            "375b8fcf928d4042bb38a7cf9b40f49f"
          ]
        }
      },
      "source": [
        "import time\n",
        "import gc\n",
        "tokenized_corpus = []\n",
        "f = '/content/drive/My Drive/Word2Vec/tokenized-corpus-' # file-path to awoid rewriting\n",
        "x = [word for word in model.wv.vocab] # load the words in the model vocabulary to the variable x\n",
        "print('start', ' .... ', len(x)) # print the number of words in the model's vocabulary initially\n",
        "del x # delete x \n",
        "del tokenized_corpus # unassign the variable, delete it\n",
        "time.sleep(5) # wait for 5 seconds\n",
        "gc.collect() # clear RAM i.e. remove unassigned values from the RAM\n",
        "tokenized_corpus = []\n",
        "# iterate over the new corpora to be added to the word2vec model\n",
        "for i in tqdm_notebook(range(0, 30, 1)):\n",
        "    # try block is added to avoid some encoding-decoding errors\n",
        "    try:\n",
        "        with open (f+ str(i) + '.json', 'r') as fp:\n",
        "            tokenized_corpus = tokenized_corpus + json.load(fp) # concatenate the loaded data to the data present in tokenized_corpus\n",
        "    except:\n",
        "        continue\n",
        "\n",
        "    # add the new words to te model i.e. build vocabulary\n",
        "    model.build_vocab(tokenized_corpus, update = True)\n",
        "    \n",
        "    # retrain the model on the added data\n",
        "    model.train(tokenized_corpus, total_examples=model.corpus_count, epochs=model.epochs)\n",
        "    \n",
        "    num_of_words = 0\n",
        "    for s in tokenized_corpus:\n",
        "        num_of_words += len(s)\n",
        "    x = [word for word in model.wv.vocab]\n",
        "\n",
        "    # print the number of sentences, number of words in the corpus and the number of words in the model's vocabulary after training\n",
        "    print(i, ' ... sentences :: ', len(tokenized_corpus), ' ... words :: ', num_of_words, ' ... word vec length :: ',len(x))\n",
        "    del x # delete the variable\n",
        "    del tokenized_corpus # delete the variable\n",
        "    time.sleep(5) # wait for 5 seconds \n",
        "    gc.collect() # clean ram, delete unassgned values\n",
        "    tokenized_corpus = [] # reinitiate the variable with an empty list\n",
        "    # as I worked on cloud and also to avoid any time due to memory problem, I save the model after every 4 new corpora are added to the model\n",
        "    if i % 4 == 0: \n",
        "        model.save('/content/drive/My Drive/Word2Vec/combined-model/model.model')\n",
        "        print('Model Saved')\n",
        "\n",
        "# at the end of loop this model ensures to save the corpus after the for loop ends\n",
        "model.save('/content/drive/My Drive/Word2Vec/combined-model/model.model')\n",
        "print('After Loop Model Saved')\n",
        "\n",
        "\n",
        "\n",
        "\n",
        "# following commented code is used to tokenize and train the model at the same time, but by using the american case depositions. the procedure is same as above \n",
        "# with open (f, \"r\") as myfile:\n",
        "#     data=myfile.readlines()   \n",
        "# ctr = 0\n",
        "# fid = 0\n",
        "# for line in tqdm_notebook(data):\n",
        "#     # print(line)\n",
        "#     d = json.loads(line)\n",
        "#     for case in d['casebody']['data']['opinions']:\n",
        "#         for sent in nltk.sent_tokenize(case['text']):\n",
        "#             tokenized_corpus.append(nltk.word_tokenize(sent))\n",
        "#     ctr += 1\n",
        "#     if ctr == 60000:\n",
        "#         with open ('/content/drive/My Drive/Word2Vec/tok-corp-' + str(fid) + '.json', 'w') as fp:\n",
        "#             json.dump(tokenized_corpus, fp)\n",
        "#         print(len(tokenized_corpus))\n",
        "#         print(tokenized_corpus[10])\n",
        "#         del tokenized_corpus\n",
        "#         time.sleep(10)\n",
        "#         gc.collect()\n",
        "#         tokenized_corpus = []\n",
        "#         fid += 1\n",
        "# with open ('/content/drive/My Drive/Word2Vec/tok-corp-' + str(fid) + '.json', 'w') as fp:\n",
        "#     json.dump(tokenized_corpus, fp)\n",
        "# print(tokenized_corpus[10])\n",
        "# len(tokenized_corpus)\n",
        "# del tokenized_corpus\n",
        "# time.sleep(10)\n",
        "# gc.collect()"
      ],
      "execution_count": 0,
      "outputs": [
        {
          "output_type": "stream",
          "text": [
            "start  ....  4758053\n"
          ],
          "name": "stdout"
        },
        {
          "output_type": "stream",
          "text": [
            "/usr/local/lib/python3.6/dist-packages/ipykernel_launcher.py:12: TqdmDeprecationWarning: This function will be removed in tqdm==5.0.0\n",
            "Please use `tqdm.notebook.tqdm` instead of `tqdm.tqdm_notebook`\n",
            "  if sys.path[0] == '':\n"
          ],
          "name": "stderr"
        },
        {
          "output_type": "display_data",
          "data": {
            "application/vnd.jupyter.widget-view+json": {
              "model_id": "638cae0be9d446338240d4213d317aab",
              "version_minor": 0,
              "version_major": 2
            },
            "text/plain": [
              "HBox(children=(FloatProgress(value=0.0, max=30.0), HTML(value='')))"
            ]
          },
          "metadata": {
            "tags": []
          }
        },
        {
          "output_type": "stream",
          "text": [
            "0  ... sentences ::  1449329  ... words ::  32163632  ... word vec length ::  4788743\n"
          ],
          "name": "stdout"
        },
        {
          "output_type": "stream",
          "text": [
            "/usr/local/lib/python3.6/dist-packages/smart_open/smart_open_lib.py:253: UserWarning: This function is deprecated, use smart_open.open instead. See the migration notes for details: https://github.com/RaRe-Technologies/smart_open/blob/master/README.rst#migrating-to-the-new-open-function\n",
            "  'See the migration notes for details: %s' % _MIGRATION_NOTES_URL\n"
          ],
          "name": "stderr"
        },
        {
          "output_type": "stream",
          "text": [
            "Model Saved\n",
            "1  ... sentences ::  3008531  ... words ::  71091186  ... word vec length ::  4843717\n",
            "2  ... sentences ::  4037960  ... words ::  75918424  ... word vec length ::  4883881\n",
            "3  ... sentences ::  3254731  ... words ::  78523374  ... word vec length ::  4936404\n",
            "4  ... sentences ::  2932490  ... words ::  70939732  ... word vec length ::  4979876\n",
            "Model Saved\n",
            "9  ... sentences ::  1450400  ... words ::  33104992  ... word vec length ::  5008098\n",
            "10  ... sentences ::  3277823  ... words ::  74690236  ... word vec length ::  5040958\n",
            "11  ... sentences ::  2842712  ... words ::  67161452  ... word vec length ::  5075445\n",
            "12  ... sentences ::  2324853  ... words ::  53993157  ... word vec length ::  5113634\n",
            "Model Saved\n",
            "13  ... sentences ::  5085973  ... words ::  90254014  ... word vec length ::  5285631\n",
            "14  ... sentences ::  3495098  ... words ::  75208826  ... word vec length ::  5359099\n",
            "15  ... sentences ::  3420589  ... words ::  82257435  ... word vec length ::  5400232\n",
            "16  ... sentences ::  0  ... words ::  0  ... word vec length ::  5400232\n",
            "Model Saved\n",
            "17  ... sentences ::  2204300  ... words ::  50228078  ... word vec length ::  5434497\n",
            "18  ... sentences ::  3206109  ... words ::  65885948  ... word vec length ::  5488082\n",
            "19  ... sentences ::  2761140  ... words ::  60744190  ... word vec length ::  5519204\n",
            "20  ... sentences ::  2932582  ... words ::  69670080  ... word vec length ::  5550707\n",
            "Model Saved\n",
            "21  ... sentences ::  3125799  ... words ::  75769970  ... word vec length ::  5634045\n",
            "22  ... sentences ::  3125799  ... words ::  75769970  ... word vec length ::  5634045\n",
            "23  ... sentences ::  3064628  ... words ::  72604618  ... word vec length ::  5656743\n",
            "\n",
            "After Loop Model Saved\n"
          ],
          "name": "stdout"
        }
      ]
    },
    {
      "cell_type": "code",
      "metadata": {
        "id": "uh646GoGPMlZ",
        "colab_type": "code",
        "outputId": "aa7c9a7b-e729-4ef9-c980-23d65bc7b8db",
        "colab": {
          "base_uri": "https://localhost:8080/",
          "height": 272
        }
      },
      "source": [
        "model.most_similar('king') # print the words most similar to king"
      ],
      "execution_count": 0,
      "outputs": [
        {
          "output_type": "stream",
          "text": [
            "/usr/local/lib/python3.6/dist-packages/ipykernel_launcher.py:1: DeprecationWarning: Call to deprecated `most_similar` (Method will be removed in 4.0.0, use self.wv.most_similar() instead).\n",
            "  \"\"\"Entry point for launching an IPython kernel.\n",
            "/usr/local/lib/python3.6/dist-packages/gensim/matutils.py:737: FutureWarning: Conversion of the second argument of issubdtype from `int` to `np.signedinteger` is deprecated. In future, it will be treated as `np.int64 == np.dtype(int).type`.\n",
            "  if np.issubdtype(vec.dtype, np.int):\n"
          ],
          "name": "stderr"
        },
        {
          "output_type": "execute_result",
          "data": {
            "text/plain": [
              "[('emperor', 0.9237829446792603),\n",
              " ('sultan', 0.9185107946395874),\n",
              " ('duke', 0.9152607917785645),\n",
              " ('caliph', 0.9096181392669678),\n",
              " ('Tsar', 0.906605064868927),\n",
              " ('King', 0.8945298194885254),\n",
              " ('Khalif', 0.8891754150390625),\n",
              " ('prince', 0.8876203298568726),\n",
              " ('pope', 0.8860566020011902),\n",
              " ('rajah', 0.8787473440170288)]"
            ]
          },
          "metadata": {
            "tags": []
          },
          "execution_count": 15
        }
      ]
    },
    {
      "cell_type": "code",
      "metadata": {
        "id": "WJvDeLwBEaWY",
        "colab_type": "code",
        "outputId": "01c37c0a-b63b-4491-e15a-1cded53e59a4",
        "colab": {
          "base_uri": "https://localhost:8080/",
          "height": 272
        }
      },
      "source": [
        "model.most_similar('royal')# print the words most similar to royal"
      ],
      "execution_count": 0,
      "outputs": [
        {
          "output_type": "stream",
          "text": [
            "/usr/local/lib/python3.6/dist-packages/ipykernel_launcher.py:1: DeprecationWarning: Call to deprecated `most_similar` (Method will be removed in 4.0.0, use self.wv.most_similar() instead).\n",
            "  \"\"\"Entry point for launching an IPython kernel.\n",
            "/usr/local/lib/python3.6/dist-packages/gensim/matutils.py:737: FutureWarning: Conversion of the second argument of issubdtype from `int` to `np.signedinteger` is deprecated. In future, it will be treated as `np.int64 == np.dtype(int).type`.\n",
            "  if np.issubdtype(vec.dtype, np.int):\n"
          ],
          "name": "stderr"
        },
        {
          "output_type": "execute_result",
          "data": {
            "text/plain": [
              "[(\"king's\", 0.874712347984314),\n",
              " ('princely', 0.8466125726699829),\n",
              " ('ducal', 0.8380862474441528),\n",
              " ('Dukeâ\\x80\\x99s', 0.8305853605270386),\n",
              " ('imperial', 0.8148568272590637),\n",
              " (\"Queen's\", 0.796128511428833),\n",
              " ('kingâ\\x80\\x99s', 0.7920303344726562),\n",
              " ('Kingâ\\x80\\x99s', 0.787455677986145),\n",
              " ('queenâ\\x80\\x99s', 0.7858449220657349),\n",
              " ('Gardulf', 0.7773909568786621)]"
            ]
          },
          "metadata": {
            "tags": []
          },
          "execution_count": 14
        }
      ]
    },
    {
      "cell_type": "code",
      "metadata": {
        "id": "skztdYzgbebB",
        "colab_type": "code",
        "colab": {}
      },
      "source": [
        "# this cell terminates the current notebook and disconnects from the cloud \n",
        "import os\n",
        "os.kill(os.getpid(), 9)"
      ],
      "execution_count": 0,
      "outputs": []
    },
    {
      "cell_type": "code",
      "metadata": {
        "id": "tPyyX6IY2UR0",
        "colab_type": "code",
        "colab": {}
      },
      "source": [
        ""
      ],
      "execution_count": 0,
      "outputs": []
    }
  ]
}