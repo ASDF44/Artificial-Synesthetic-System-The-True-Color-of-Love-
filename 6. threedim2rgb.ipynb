{
  "nbformat": 4,
  "nbformat_minor": 0,
  "metadata": {
    "colab": {
      "name": "threedim2rgb.ipynb",
      "provenance": [],
      "collapsed_sections": []
    },
    "kernelspec": {
      "name": "python3",
      "display_name": "Python 3"
    },
    "widgets": {
      "application/vnd.jupyter.widget-state+json": {
        "0a768a0a2ed64dae9c738392a0e0cc8b": {
          "model_module": "@jupyter-widgets/controls",
          "model_name": "HBoxModel",
          "state": {
            "_view_name": "HBoxView",
            "_dom_classes": [],
            "_model_name": "HBoxModel",
            "_view_module": "@jupyter-widgets/controls",
            "_model_module_version": "1.5.0",
            "_view_count": null,
            "_view_module_version": "1.5.0",
            "box_style": "",
            "layout": "IPY_MODEL_1e9900aa9f784dcc85ae5c50db57d743",
            "_model_module": "@jupyter-widgets/controls",
            "children": [
              "IPY_MODEL_79604b4023f041ddb1d4c01adfd6c9da",
              "IPY_MODEL_dd37aa46bcbf4848b0290947abcca613"
            ]
          }
        },
        "1e9900aa9f784dcc85ae5c50db57d743": {
          "model_module": "@jupyter-widgets/base",
          "model_name": "LayoutModel",
          "state": {
            "_view_name": "LayoutView",
            "grid_template_rows": null,
            "right": null,
            "justify_content": null,
            "_view_module": "@jupyter-widgets/base",
            "overflow": null,
            "_model_module_version": "1.2.0",
            "_view_count": null,
            "flex_flow": null,
            "width": null,
            "min_width": null,
            "border": null,
            "align_items": null,
            "bottom": null,
            "_model_module": "@jupyter-widgets/base",
            "top": null,
            "grid_column": null,
            "overflow_y": null,
            "overflow_x": null,
            "grid_auto_flow": null,
            "grid_area": null,
            "grid_template_columns": null,
            "flex": null,
            "_model_name": "LayoutModel",
            "justify_items": null,
            "grid_row": null,
            "max_height": null,
            "align_content": null,
            "visibility": null,
            "align_self": null,
            "height": null,
            "min_height": null,
            "padding": null,
            "grid_auto_rows": null,
            "grid_gap": null,
            "max_width": null,
            "order": null,
            "_view_module_version": "1.2.0",
            "grid_template_areas": null,
            "object_position": null,
            "object_fit": null,
            "grid_auto_columns": null,
            "margin": null,
            "display": null,
            "left": null
          }
        },
        "79604b4023f041ddb1d4c01adfd6c9da": {
          "model_module": "@jupyter-widgets/controls",
          "model_name": "FloatProgressModel",
          "state": {
            "_view_name": "ProgressView",
            "style": "IPY_MODEL_bc91f78ae28c41298ef23db743831514",
            "_dom_classes": [],
            "description": "100%",
            "_model_name": "FloatProgressModel",
            "bar_style": "success",
            "max": 10,
            "_view_module": "@jupyter-widgets/controls",
            "_model_module_version": "1.5.0",
            "value": 10,
            "_view_count": null,
            "_view_module_version": "1.5.0",
            "orientation": "horizontal",
            "min": 0,
            "description_tooltip": null,
            "_model_module": "@jupyter-widgets/controls",
            "layout": "IPY_MODEL_02153b576bf64893b07e7ed267f967a4"
          }
        },
        "dd37aa46bcbf4848b0290947abcca613": {
          "model_module": "@jupyter-widgets/controls",
          "model_name": "HTMLModel",
          "state": {
            "_view_name": "HTMLView",
            "style": "IPY_MODEL_e3e833c5766b443491dd10b51a463b24",
            "_dom_classes": [],
            "description": "",
            "_model_name": "HTMLModel",
            "placeholder": "​",
            "_view_module": "@jupyter-widgets/controls",
            "_model_module_version": "1.5.0",
            "value": " 10/10 [05:31&lt;00:00, 33.11s/it]",
            "_view_count": null,
            "_view_module_version": "1.5.0",
            "description_tooltip": null,
            "_model_module": "@jupyter-widgets/controls",
            "layout": "IPY_MODEL_732cee065ee24abbb64389e8d582442c"
          }
        },
        "bc91f78ae28c41298ef23db743831514": {
          "model_module": "@jupyter-widgets/controls",
          "model_name": "ProgressStyleModel",
          "state": {
            "_view_name": "StyleView",
            "_model_name": "ProgressStyleModel",
            "description_width": "initial",
            "_view_module": "@jupyter-widgets/base",
            "_model_module_version": "1.5.0",
            "_view_count": null,
            "_view_module_version": "1.2.0",
            "bar_color": null,
            "_model_module": "@jupyter-widgets/controls"
          }
        },
        "02153b576bf64893b07e7ed267f967a4": {
          "model_module": "@jupyter-widgets/base",
          "model_name": "LayoutModel",
          "state": {
            "_view_name": "LayoutView",
            "grid_template_rows": null,
            "right": null,
            "justify_content": null,
            "_view_module": "@jupyter-widgets/base",
            "overflow": null,
            "_model_module_version": "1.2.0",
            "_view_count": null,
            "flex_flow": null,
            "width": null,
            "min_width": null,
            "border": null,
            "align_items": null,
            "bottom": null,
            "_model_module": "@jupyter-widgets/base",
            "top": null,
            "grid_column": null,
            "overflow_y": null,
            "overflow_x": null,
            "grid_auto_flow": null,
            "grid_area": null,
            "grid_template_columns": null,
            "flex": null,
            "_model_name": "LayoutModel",
            "justify_items": null,
            "grid_row": null,
            "max_height": null,
            "align_content": null,
            "visibility": null,
            "align_self": null,
            "height": null,
            "min_height": null,
            "padding": null,
            "grid_auto_rows": null,
            "grid_gap": null,
            "max_width": null,
            "order": null,
            "_view_module_version": "1.2.0",
            "grid_template_areas": null,
            "object_position": null,
            "object_fit": null,
            "grid_auto_columns": null,
            "margin": null,
            "display": null,
            "left": null
          }
        },
        "e3e833c5766b443491dd10b51a463b24": {
          "model_module": "@jupyter-widgets/controls",
          "model_name": "DescriptionStyleModel",
          "state": {
            "_view_name": "StyleView",
            "_model_name": "DescriptionStyleModel",
            "description_width": "",
            "_view_module": "@jupyter-widgets/base",
            "_model_module_version": "1.5.0",
            "_view_count": null,
            "_view_module_version": "1.2.0",
            "_model_module": "@jupyter-widgets/controls"
          }
        },
        "732cee065ee24abbb64389e8d582442c": {
          "model_module": "@jupyter-widgets/base",
          "model_name": "LayoutModel",
          "state": {
            "_view_name": "LayoutView",
            "grid_template_rows": null,
            "right": null,
            "justify_content": null,
            "_view_module": "@jupyter-widgets/base",
            "overflow": null,
            "_model_module_version": "1.2.0",
            "_view_count": null,
            "flex_flow": null,
            "width": null,
            "min_width": null,
            "border": null,
            "align_items": null,
            "bottom": null,
            "_model_module": "@jupyter-widgets/base",
            "top": null,
            "grid_column": null,
            "overflow_y": null,
            "overflow_x": null,
            "grid_auto_flow": null,
            "grid_area": null,
            "grid_template_columns": null,
            "flex": null,
            "_model_name": "LayoutModel",
            "justify_items": null,
            "grid_row": null,
            "max_height": null,
            "align_content": null,
            "visibility": null,
            "align_self": null,
            "height": null,
            "min_height": null,
            "padding": null,
            "grid_auto_rows": null,
            "grid_gap": null,
            "max_width": null,
            "order": null,
            "_view_module_version": "1.2.0",
            "grid_template_areas": null,
            "object_position": null,
            "object_fit": null,
            "grid_auto_columns": null,
            "margin": null,
            "display": null,
            "left": null
          }
        },
        "4fbdb6365a3f4601a733ca2668112b4a": {
          "model_module": "@jupyter-widgets/controls",
          "model_name": "HBoxModel",
          "state": {
            "_view_name": "HBoxView",
            "_dom_classes": [],
            "_model_name": "HBoxModel",
            "_view_module": "@jupyter-widgets/controls",
            "_model_module_version": "1.5.0",
            "_view_count": null,
            "_view_module_version": "1.5.0",
            "box_style": "",
            "layout": "IPY_MODEL_caa587cc06e340efbe117f9ef83c6bf6",
            "_model_module": "@jupyter-widgets/controls",
            "children": [
              "IPY_MODEL_8ff3208fa6024ddf99936905bb1c1981",
              "IPY_MODEL_f902822f575944f7b07f16e1f1e0a0d0"
            ]
          }
        },
        "caa587cc06e340efbe117f9ef83c6bf6": {
          "model_module": "@jupyter-widgets/base",
          "model_name": "LayoutModel",
          "state": {
            "_view_name": "LayoutView",
            "grid_template_rows": null,
            "right": null,
            "justify_content": null,
            "_view_module": "@jupyter-widgets/base",
            "overflow": null,
            "_model_module_version": "1.2.0",
            "_view_count": null,
            "flex_flow": null,
            "width": null,
            "min_width": null,
            "border": null,
            "align_items": null,
            "bottom": null,
            "_model_module": "@jupyter-widgets/base",
            "top": null,
            "grid_column": null,
            "overflow_y": null,
            "overflow_x": null,
            "grid_auto_flow": null,
            "grid_area": null,
            "grid_template_columns": null,
            "flex": null,
            "_model_name": "LayoutModel",
            "justify_items": null,
            "grid_row": null,
            "max_height": null,
            "align_content": null,
            "visibility": null,
            "align_self": null,
            "height": null,
            "min_height": null,
            "padding": null,
            "grid_auto_rows": null,
            "grid_gap": null,
            "max_width": null,
            "order": null,
            "_view_module_version": "1.2.0",
            "grid_template_areas": null,
            "object_position": null,
            "object_fit": null,
            "grid_auto_columns": null,
            "margin": null,
            "display": null,
            "left": null
          }
        },
        "8ff3208fa6024ddf99936905bb1c1981": {
          "model_module": "@jupyter-widgets/controls",
          "model_name": "FloatProgressModel",
          "state": {
            "_view_name": "ProgressView",
            "style": "IPY_MODEL_b4ff86d146a84eca9e62fed5fbe87f9d",
            "_dom_classes": [],
            "description": "100%",
            "_model_name": "FloatProgressModel",
            "bar_style": "success",
            "max": 11,
            "_view_module": "@jupyter-widgets/controls",
            "_model_module_version": "1.5.0",
            "value": 11,
            "_view_count": null,
            "_view_module_version": "1.5.0",
            "orientation": "horizontal",
            "min": 0,
            "description_tooltip": null,
            "_model_module": "@jupyter-widgets/controls",
            "layout": "IPY_MODEL_a41da6cbd43d4af49943ce309cafc70e"
          }
        },
        "f902822f575944f7b07f16e1f1e0a0d0": {
          "model_module": "@jupyter-widgets/controls",
          "model_name": "HTMLModel",
          "state": {
            "_view_name": "HTMLView",
            "style": "IPY_MODEL_7b41721d4e14419287ac68422d2c79ca",
            "_dom_classes": [],
            "description": "",
            "_model_name": "HTMLModel",
            "placeholder": "​",
            "_view_module": "@jupyter-widgets/controls",
            "_model_module_version": "1.5.0",
            "value": " 11/11 [01:26&lt;00:00,  7.82s/it]",
            "_view_count": null,
            "_view_module_version": "1.5.0",
            "description_tooltip": null,
            "_model_module": "@jupyter-widgets/controls",
            "layout": "IPY_MODEL_eebf72294e7f420ca37a5b78a70ab71a"
          }
        },
        "b4ff86d146a84eca9e62fed5fbe87f9d": {
          "model_module": "@jupyter-widgets/controls",
          "model_name": "ProgressStyleModel",
          "state": {
            "_view_name": "StyleView",
            "_model_name": "ProgressStyleModel",
            "description_width": "initial",
            "_view_module": "@jupyter-widgets/base",
            "_model_module_version": "1.5.0",
            "_view_count": null,
            "_view_module_version": "1.2.0",
            "bar_color": null,
            "_model_module": "@jupyter-widgets/controls"
          }
        },
        "a41da6cbd43d4af49943ce309cafc70e": {
          "model_module": "@jupyter-widgets/base",
          "model_name": "LayoutModel",
          "state": {
            "_view_name": "LayoutView",
            "grid_template_rows": null,
            "right": null,
            "justify_content": null,
            "_view_module": "@jupyter-widgets/base",
            "overflow": null,
            "_model_module_version": "1.2.0",
            "_view_count": null,
            "flex_flow": null,
            "width": null,
            "min_width": null,
            "border": null,
            "align_items": null,
            "bottom": null,
            "_model_module": "@jupyter-widgets/base",
            "top": null,
            "grid_column": null,
            "overflow_y": null,
            "overflow_x": null,
            "grid_auto_flow": null,
            "grid_area": null,
            "grid_template_columns": null,
            "flex": null,
            "_model_name": "LayoutModel",
            "justify_items": null,
            "grid_row": null,
            "max_height": null,
            "align_content": null,
            "visibility": null,
            "align_self": null,
            "height": null,
            "min_height": null,
            "padding": null,
            "grid_auto_rows": null,
            "grid_gap": null,
            "max_width": null,
            "order": null,
            "_view_module_version": "1.2.0",
            "grid_template_areas": null,
            "object_position": null,
            "object_fit": null,
            "grid_auto_columns": null,
            "margin": null,
            "display": null,
            "left": null
          }
        },
        "7b41721d4e14419287ac68422d2c79ca": {
          "model_module": "@jupyter-widgets/controls",
          "model_name": "DescriptionStyleModel",
          "state": {
            "_view_name": "StyleView",
            "_model_name": "DescriptionStyleModel",
            "description_width": "",
            "_view_module": "@jupyter-widgets/base",
            "_model_module_version": "1.5.0",
            "_view_count": null,
            "_view_module_version": "1.2.0",
            "_model_module": "@jupyter-widgets/controls"
          }
        },
        "eebf72294e7f420ca37a5b78a70ab71a": {
          "model_module": "@jupyter-widgets/base",
          "model_name": "LayoutModel",
          "state": {
            "_view_name": "LayoutView",
            "grid_template_rows": null,
            "right": null,
            "justify_content": null,
            "_view_module": "@jupyter-widgets/base",
            "overflow": null,
            "_model_module_version": "1.2.0",
            "_view_count": null,
            "flex_flow": null,
            "width": null,
            "min_width": null,
            "border": null,
            "align_items": null,
            "bottom": null,
            "_model_module": "@jupyter-widgets/base",
            "top": null,
            "grid_column": null,
            "overflow_y": null,
            "overflow_x": null,
            "grid_auto_flow": null,
            "grid_area": null,
            "grid_template_columns": null,
            "flex": null,
            "_model_name": "LayoutModel",
            "justify_items": null,
            "grid_row": null,
            "max_height": null,
            "align_content": null,
            "visibility": null,
            "align_self": null,
            "height": null,
            "min_height": null,
            "padding": null,
            "grid_auto_rows": null,
            "grid_gap": null,
            "max_width": null,
            "order": null,
            "_view_module_version": "1.2.0",
            "grid_template_areas": null,
            "object_position": null,
            "object_fit": null,
            "grid_auto_columns": null,
            "margin": null,
            "display": null,
            "left": null
          }
        }
      }
    }
  },
  "cells": [
    {
      "cell_type": "code",
      "metadata": {
        "id": "ZOuhkg4kvIPz",
        "colab_type": "code",
        "colab": {}
      },
      "source": [
        "import pandas as pd\n",
        "from tqdm import tqdm_notebook\n",
        "import os"
      ],
      "execution_count": 0,
      "outputs": []
    },
    {
      "cell_type": "code",
      "metadata": {
        "id": "8SwXiq02vN_M",
        "colab_type": "code",
        "outputId": "c21c1399-16f8-4179-cef7-9e7267ba1218",
        "colab": {
          "base_uri": "https://localhost:8080/",
          "height": 133,
          "referenced_widgets": [
            "0a768a0a2ed64dae9c738392a0e0cc8b",
            "1e9900aa9f784dcc85ae5c50db57d743",
            "79604b4023f041ddb1d4c01adfd6c9da",
            "dd37aa46bcbf4848b0290947abcca613",
            "bc91f78ae28c41298ef23db743831514",
            "02153b576bf64893b07e7ed267f967a4",
            "e3e833c5766b443491dd10b51a463b24",
            "732cee065ee24abbb64389e8d582442c"
          ]
        }
      },
      "source": [
        "# load the all files of csv of word -- 3-D vector data\n",
        "tok_corpus_df = pd.read_csv('/content/drive/My Drive/Word2Vec/combined-word-vector-maps/combined-word-vector-map-0.csv')\n",
        "for i in tqdm_notebook(range(1,11)):\n",
        "    temp_df = pd.read_csv('/content/drive/My Drive/Word2Vec/combined-word-vector-maps/combined-word-vector-map-'+str(i)+'.csv')\n",
        "    tok_corpus_df = pd.concat([tok_corpus_df, temp_df])"
      ],
      "execution_count": 3,
      "outputs": [
        {
          "output_type": "stream",
          "text": [
            "True\n"
          ],
          "name": "stdout"
        },
        {
          "output_type": "stream",
          "text": [
            "/usr/local/lib/python3.6/dist-packages/ipykernel_launcher.py:4: TqdmDeprecationWarning: This function will be removed in tqdm==5.0.0\n",
            "Please use `tqdm.notebook.tqdm` instead of `tqdm.tqdm_notebook`\n",
            "  after removing the cwd from sys.path.\n"
          ],
          "name": "stderr"
        },
        {
          "output_type": "display_data",
          "data": {
            "application/vnd.jupyter.widget-view+json": {
              "model_id": "0a768a0a2ed64dae9c738392a0e0cc8b",
              "version_minor": 0,
              "version_major": 2
            },
            "text/plain": [
              "HBox(children=(FloatProgress(value=0.0, max=10.0), HTML(value='')))"
            ]
          },
          "metadata": {
            "tags": []
          }
        },
        {
          "output_type": "stream",
          "text": [
            "\n"
          ],
          "name": "stdout"
        }
      ]
    },
    {
      "cell_type": "code",
      "metadata": {
        "id": "Ns9oELOV5WgE",
        "colab_type": "code",
        "outputId": "8c44f8a9-94c6-4278-a0b7-10339bcc599d",
        "colab": {
          "base_uri": "https://localhost:8080/",
          "height": 212
        }
      },
      "source": [
        "# check the shape and sample entries in the DataFrame\n",
        "print(tok_corpus_df.shape)\n",
        "tok_corpus_df.head()"
      ],
      "execution_count": 0,
      "outputs": [
        {
          "output_type": "stream",
          "text": [
            "(5656743, 5)\n"
          ],
          "name": "stdout"
        },
        {
          "output_type": "execute_result",
          "data": {
            "text/html": [
              "<div>\n",
              "<style scoped>\n",
              "    .dataframe tbody tr th:only-of-type {\n",
              "        vertical-align: middle;\n",
              "    }\n",
              "\n",
              "    .dataframe tbody tr th {\n",
              "        vertical-align: top;\n",
              "    }\n",
              "\n",
              "    .dataframe thead th {\n",
              "        text-align: right;\n",
              "    }\n",
              "</style>\n",
              "<table border=\"1\" class=\"dataframe\">\n",
              "  <thead>\n",
              "    <tr style=\"text-align: right;\">\n",
              "      <th></th>\n",
              "      <th>Unnamed: 0</th>\n",
              "      <th>word</th>\n",
              "      <th>r</th>\n",
              "      <th>g</th>\n",
              "      <th>b</th>\n",
              "    </tr>\n",
              "  </thead>\n",
              "  <tbody>\n",
              "    <tr>\n",
              "      <th>0</th>\n",
              "      <td>0</td>\n",
              "      <td>I</td>\n",
              "      <td>0.870693</td>\n",
              "      <td>-2.438008</td>\n",
              "      <td>4.582037</td>\n",
              "    </tr>\n",
              "    <tr>\n",
              "      <th>1</th>\n",
              "      <td>1</td>\n",
              "      <td>purchased</td>\n",
              "      <td>-3.233436</td>\n",
              "      <td>-2.716032</td>\n",
              "      <td>-3.202593</td>\n",
              "    </tr>\n",
              "    <tr>\n",
              "      <th>2</th>\n",
              "      <td>2</td>\n",
              "      <td>this</td>\n",
              "      <td>0.945580</td>\n",
              "      <td>-2.704733</td>\n",
              "      <td>-1.545107</td>\n",
              "    </tr>\n",
              "    <tr>\n",
              "      <th>3</th>\n",
              "      <td>3</td>\n",
              "      <td>item</td>\n",
              "      <td>-2.688989</td>\n",
              "      <td>0.083493</td>\n",
              "      <td>2.468808</td>\n",
              "    </tr>\n",
              "    <tr>\n",
              "      <th>4</th>\n",
              "      <td>4</td>\n",
              "      <td>about</td>\n",
              "      <td>-0.155559</td>\n",
              "      <td>-0.743430</td>\n",
              "      <td>1.448126</td>\n",
              "    </tr>\n",
              "  </tbody>\n",
              "</table>\n",
              "</div>"
            ],
            "text/plain": [
              "   Unnamed: 0       word         r         g         b\n",
              "0           0          I  0.870693 -2.438008  4.582037\n",
              "1           1  purchased -3.233436 -2.716032 -3.202593\n",
              "2           2       this  0.945580 -2.704733 -1.545107\n",
              "3           3       item -2.688989  0.083493  2.468808\n",
              "4           4      about -0.155559 -0.743430  1.448126"
            ]
          },
          "metadata": {
            "tags": []
          },
          "execution_count": 3
        }
      ]
    },
    {
      "cell_type": "code",
      "metadata": {
        "id": "OSFEeE7IwHcO",
        "colab_type": "code",
        "outputId": "8d2a7306-89d5-4118-c6f5-019d86f9afa2",
        "colab": {
          "base_uri": "https://localhost:8080/",
          "height": 229
        }
      },
      "source": [
        "# this cell was used already to scale the vectors to rgb values but the result was concentrated at the central values so i cancelled this implementation\n",
        "\n",
        "\n",
        "# # find the min and max values of all the columns\n",
        "# x_max = max(tok_corpus_df['x'])\n",
        "# y_max = max(tok_corpus_df['y'])\n",
        "# z_max = max(tok_corpus_df['z'])\n",
        "# x_min = min(tok_corpus_df['x'])\n",
        "# y_min = min(tok_corpus_df['y'])\n",
        "# z_min = min(tok_corpus_df['z'])\n",
        "\n",
        "# # def fit_distribution(r,g,b):\n",
        "# #     return ((255)*(r-r_min)/(r_max-r_min)), ((255)*(g-g_min)/(g_max-g_min)), ((255*(b-b_min)/(b_max-b_min)))\n",
        "# r = []\n",
        "# g = []\n",
        "# b = []\n",
        "# # for row in tok_corpus_df.iterrows():\n",
        "# #     (x, y, z) = fit_distribution(row['x'], row['y'], row['z'])\n",
        "# #     r.append(x)\n",
        "# #     g.append(y)\n",
        "# #     b.append(z)"
      ],
      "execution_count": 0,
      "outputs": [
        {
          "output_type": "error",
          "ename": "NameError",
          "evalue": "ignored",
          "traceback": [
            "\u001b[0;31m---------------------------------------------------------------------------\u001b[0m",
            "\u001b[0;31mNameError\u001b[0m                                 Traceback (most recent call last)",
            "\u001b[0;32m<ipython-input-1-8f8e0a6b58a6>\u001b[0m in \u001b[0;36m<module>\u001b[0;34m()\u001b[0m\n\u001b[0;32m----> 1\u001b[0;31m \u001b[0mr_max\u001b[0m \u001b[0;34m=\u001b[0m \u001b[0mmax\u001b[0m\u001b[0;34m(\u001b[0m\u001b[0mtok_corpus_df\u001b[0m\u001b[0;34m[\u001b[0m\u001b[0;34m'r'\u001b[0m\u001b[0;34m]\u001b[0m\u001b[0;34m)\u001b[0m\u001b[0;34m\u001b[0m\u001b[0;34m\u001b[0m\u001b[0m\n\u001b[0m\u001b[1;32m      2\u001b[0m \u001b[0mg_max\u001b[0m \u001b[0;34m=\u001b[0m \u001b[0mmax\u001b[0m\u001b[0;34m(\u001b[0m\u001b[0mtok_corpus_df\u001b[0m\u001b[0;34m[\u001b[0m\u001b[0;34m'g'\u001b[0m\u001b[0;34m]\u001b[0m\u001b[0;34m)\u001b[0m\u001b[0;34m\u001b[0m\u001b[0;34m\u001b[0m\u001b[0m\n\u001b[1;32m      3\u001b[0m \u001b[0mb_max\u001b[0m \u001b[0;34m=\u001b[0m \u001b[0mmax\u001b[0m\u001b[0;34m(\u001b[0m\u001b[0mtok_corpus_df\u001b[0m\u001b[0;34m[\u001b[0m\u001b[0;34m'b'\u001b[0m\u001b[0;34m]\u001b[0m\u001b[0;34m)\u001b[0m\u001b[0;34m\u001b[0m\u001b[0;34m\u001b[0m\u001b[0m\n\u001b[1;32m      4\u001b[0m \u001b[0mr_min\u001b[0m \u001b[0;34m=\u001b[0m \u001b[0mmin\u001b[0m\u001b[0;34m(\u001b[0m\u001b[0mtok_corpus_df\u001b[0m\u001b[0;34m[\u001b[0m\u001b[0;34m'r'\u001b[0m\u001b[0;34m]\u001b[0m\u001b[0;34m)\u001b[0m\u001b[0;34m\u001b[0m\u001b[0;34m\u001b[0m\u001b[0m\n\u001b[1;32m      5\u001b[0m \u001b[0mg_min\u001b[0m \u001b[0;34m=\u001b[0m \u001b[0mmin\u001b[0m\u001b[0;34m(\u001b[0m\u001b[0mtok_corpus_df\u001b[0m\u001b[0;34m[\u001b[0m\u001b[0;34m'g'\u001b[0m\u001b[0;34m]\u001b[0m\u001b[0;34m)\u001b[0m\u001b[0;34m\u001b[0m\u001b[0;34m\u001b[0m\u001b[0m\n",
            "\u001b[0;31mNameError\u001b[0m: name 'tok_corpus_df' is not defined"
          ]
        }
      ]
    },
    {
      "cell_type": "code",
      "metadata": {
        "id": "x6XX5cM3zX-e",
        "colab_type": "code",
        "colab": {}
      },
      "source": [
        "import numpy as np\n",
        "# sigmoid activation function\n",
        "def sigmoid(a):\n",
        "    return 1/(1+np.exp(-a))"
      ],
      "execution_count": 0,
      "outputs": []
    },
    {
      "cell_type": "code",
      "metadata": {
        "id": "KnmqBabYzIb1",
        "colab_type": "code",
        "outputId": "6270ff71-a9fc-4a5b-c499-56a6b263f100",
        "colab": {
          "base_uri": "https://localhost:8080/",
          "height": 94
        }
      },
      "source": [
        "# tok_corpus_df['new_r'] = 255 + ((tok_corpus_df['r'] - r_max)*(255-0)/(r_max-r_min))\n",
        "# tok_corpus_df['new_g'] = 255 + ((tok_corpus_df['g'] - g_max)*(255-0)/(g_max-g_min))\n",
        "# tok_corpus_df['new_b'] = 255 + ((tok_corpus_df['b'] - b_max)*(255-0)/(b_max-b_min))\n",
        "\n",
        "# add the new columns of rgb values to the dataframe\n",
        "tok_corpus_df['r'] = round(255 * sigmoid(tok_corpus_df['x']))\n",
        "tok_corpus_df['g'] = round(255 * sigmoid(tok_corpus_df['y']))\n",
        "tok_corpus_df['b'] = round(255 * sigmoid(tok_corpus_df['z']))\n",
        "\n",
        "\n",
        "# tok_corpus_df['new_a'] = (1-0)*(tok_corpus_df['a']-a_min)/(a_max-a_min) \n",
        "tok_corpus_df.drop_duplicates(subset =\"word\", keep = False, inplace = True) \n",
        "print(tok_corpus_df.shape)\n",
        "tok_corpus_df[tok_corpus_df['word'] == 'king']"
      ],
      "execution_count": 8,
      "outputs": [
        {
          "output_type": "stream",
          "text": [
            "(5656152, 8)\n"
          ],
          "name": "stdout"
        },
        {
          "output_type": "execute_result",
          "data": {
            "text/html": [
              "<div>\n",
              "<style scoped>\n",
              "    .dataframe tbody tr th:only-of-type {\n",
              "        vertical-align: middle;\n",
              "    }\n",
              "\n",
              "    .dataframe tbody tr th {\n",
              "        vertical-align: top;\n",
              "    }\n",
              "\n",
              "    .dataframe thead th {\n",
              "        text-align: right;\n",
              "    }\n",
              "</style>\n",
              "<table border=\"1\" class=\"dataframe\">\n",
              "  <thead>\n",
              "    <tr style=\"text-align: right;\">\n",
              "      <th></th>\n",
              "      <th>Unnamed: 0</th>\n",
              "      <th>word</th>\n",
              "      <th>x</th>\n",
              "      <th>y</th>\n",
              "      <th>z</th>\n",
              "      <th>r</th>\n",
              "      <th>g</th>\n",
              "      <th>b</th>\n",
              "    </tr>\n",
              "  </thead>\n",
              "  <tbody>\n",
              "    <tr>\n",
              "      <th>9022</th>\n",
              "      <td>9022</td>\n",
              "      <td>king</td>\n",
              "      <td>-2.756205</td>\n",
              "      <td>0.938623</td>\n",
              "      <td>0.300909</td>\n",
              "      <td>15.0</td>\n",
              "      <td>183.0</td>\n",
              "      <td>147.0</td>\n",
              "    </tr>\n",
              "  </tbody>\n",
              "</table>\n",
              "</div>"
            ],
            "text/plain": [
              "      Unnamed: 0  word         x         y         z     r      g      b\n",
              "9022        9022  king -2.756205  0.938623  0.300909  15.0  183.0  147.0"
            ]
          },
          "metadata": {
            "tags": []
          },
          "execution_count": 8
        }
      ]
    },
    {
      "cell_type": "code",
      "metadata": {
        "id": "-eUp9AkxdnJ0",
        "colab_type": "code",
        "outputId": "bbd73acc-1552-4452-e6c1-ca333a0e0737",
        "colab": {
          "base_uri": "https://localhost:8080/",
          "height": 284
        }
      },
      "source": [
        "tok_corpus_df.describe() # get the statistical information of the DataFrame"
      ],
      "execution_count": 9,
      "outputs": [
        {
          "output_type": "execute_result",
          "data": {
            "text/html": [
              "<div>\n",
              "<style scoped>\n",
              "    .dataframe tbody tr th:only-of-type {\n",
              "        vertical-align: middle;\n",
              "    }\n",
              "\n",
              "    .dataframe tbody tr th {\n",
              "        vertical-align: top;\n",
              "    }\n",
              "\n",
              "    .dataframe thead th {\n",
              "        text-align: right;\n",
              "    }\n",
              "</style>\n",
              "<table border=\"1\" class=\"dataframe\">\n",
              "  <thead>\n",
              "    <tr style=\"text-align: right;\">\n",
              "      <th></th>\n",
              "      <th>Unnamed: 0</th>\n",
              "      <th>x</th>\n",
              "      <th>y</th>\n",
              "      <th>z</th>\n",
              "      <th>r</th>\n",
              "      <th>g</th>\n",
              "      <th>b</th>\n",
              "    </tr>\n",
              "  </thead>\n",
              "  <tbody>\n",
              "    <tr>\n",
              "      <th>count</th>\n",
              "      <td>5.656152e+06</td>\n",
              "      <td>5.656152e+06</td>\n",
              "      <td>5.656152e+06</td>\n",
              "      <td>5.656152e+06</td>\n",
              "      <td>5.656152e+06</td>\n",
              "      <td>5.656152e+06</td>\n",
              "      <td>5.656152e+06</td>\n",
              "    </tr>\n",
              "    <tr>\n",
              "      <th>mean</th>\n",
              "      <td>2.828244e+06</td>\n",
              "      <td>6.090180e-03</td>\n",
              "      <td>1.708649e-02</td>\n",
              "      <td>8.922568e-02</td>\n",
              "      <td>1.280324e+02</td>\n",
              "      <td>1.282927e+02</td>\n",
              "      <td>1.325413e+02</td>\n",
              "    </tr>\n",
              "    <tr>\n",
              "      <th>std</th>\n",
              "      <td>1.632989e+06</td>\n",
              "      <td>4.276878e-01</td>\n",
              "      <td>4.149433e-01</td>\n",
              "      <td>4.158511e-01</td>\n",
              "      <td>1.974632e+01</td>\n",
              "      <td>1.865594e+01</td>\n",
              "      <td>1.871556e+01</td>\n",
              "    </tr>\n",
              "    <tr>\n",
              "      <th>min</th>\n",
              "      <td>1.000000e+00</td>\n",
              "      <td>-3.306976e+01</td>\n",
              "      <td>-2.508203e+01</td>\n",
              "      <td>-1.338764e+01</td>\n",
              "      <td>0.000000e+00</td>\n",
              "      <td>0.000000e+00</td>\n",
              "      <td>0.000000e+00</td>\n",
              "    </tr>\n",
              "    <tr>\n",
              "      <th>25%</th>\n",
              "      <td>1.414049e+06</td>\n",
              "      <td>-4.222804e-02</td>\n",
              "      <td>-5.093396e-02</td>\n",
              "      <td>-1.182889e-03</td>\n",
              "      <td>1.250000e+02</td>\n",
              "      <td>1.240000e+02</td>\n",
              "      <td>1.270000e+02</td>\n",
              "    </tr>\n",
              "    <tr>\n",
              "      <th>50%</th>\n",
              "      <td>2.828088e+06</td>\n",
              "      <td>6.323248e-03</td>\n",
              "      <td>-6.168867e-03</td>\n",
              "      <td>4.658522e-02</td>\n",
              "      <td>1.280000e+02</td>\n",
              "      <td>1.270000e+02</td>\n",
              "      <td>1.300000e+02</td>\n",
              "    </tr>\n",
              "    <tr>\n",
              "      <th>75%</th>\n",
              "      <td>4.242704e+06</td>\n",
              "      <td>6.241949e-02</td>\n",
              "      <td>4.387195e-02</td>\n",
              "      <td>1.091118e-01</td>\n",
              "      <td>1.310000e+02</td>\n",
              "      <td>1.300000e+02</td>\n",
              "      <td>1.340000e+02</td>\n",
              "    </tr>\n",
              "    <tr>\n",
              "      <th>max</th>\n",
              "      <td>5.656742e+06</td>\n",
              "      <td>2.214314e+01</td>\n",
              "      <td>2.269135e+01</td>\n",
              "      <td>3.154277e+01</td>\n",
              "      <td>2.550000e+02</td>\n",
              "      <td>2.550000e+02</td>\n",
              "      <td>2.550000e+02</td>\n",
              "    </tr>\n",
              "  </tbody>\n",
              "</table>\n",
              "</div>"
            ],
            "text/plain": [
              "         Unnamed: 0             x  ...             g             b\n",
              "count  5.656152e+06  5.656152e+06  ...  5.656152e+06  5.656152e+06\n",
              "mean   2.828244e+06  6.090180e-03  ...  1.282927e+02  1.325413e+02\n",
              "std    1.632989e+06  4.276878e-01  ...  1.865594e+01  1.871556e+01\n",
              "min    1.000000e+00 -3.306976e+01  ...  0.000000e+00  0.000000e+00\n",
              "25%    1.414049e+06 -4.222804e-02  ...  1.240000e+02  1.270000e+02\n",
              "50%    2.828088e+06  6.323248e-03  ...  1.270000e+02  1.300000e+02\n",
              "75%    4.242704e+06  6.241949e-02  ...  1.300000e+02  1.340000e+02\n",
              "max    5.656742e+06  2.214314e+01  ...  2.550000e+02  2.550000e+02\n",
              "\n",
              "[8 rows x 7 columns]"
            ]
          },
          "metadata": {
            "tags": []
          },
          "execution_count": 9
        }
      ]
    },
    {
      "cell_type": "code",
      "metadata": {
        "id": "O1x696Xd0J-o",
        "colab_type": "code",
        "outputId": "973d3630-438e-4c84-8bb4-d838fcd23ce6",
        "colab": {
          "base_uri": "https://localhost:8080/",
          "height": 385,
          "referenced_widgets": [
            "4fbdb6365a3f4601a733ca2668112b4a",
            "caa587cc06e340efbe117f9ef83c6bf6",
            "8ff3208fa6024ddf99936905bb1c1981",
            "f902822f575944f7b07f16e1f1e0a0d0",
            "b4ff86d146a84eca9e62fed5fbe87f9d",
            "a41da6cbd43d4af49943ce309cafc70e",
            "7b41721d4e14419287ac68422d2c79ca",
            "eebf72294e7f420ca37a5b78a70ab71a"
          ]
        }
      },
      "source": [
        "# this is the same chunking procedure used before in PCA2threedims\n",
        "chunk_size = int(tok_corpus_df.shape[0] / 10)\n",
        "fid = 0\n",
        "print(tok_corpus_df.head())\n",
        "# divide the large dataframe into smaller parts and save it to the drive\n",
        "for start in tqdm_notebook(range(0, tok_corpus_df.shape[0], chunk_size)):\n",
        "    df_subset = tok_corpus_df.iloc[start:start + chunk_size]\n",
        "    df_subset.drop_duplicates(subset =\"word\", keep = False, inplace = True) \n",
        "    df_subset.to_csv('/content/drive/My Drive/Word2Vec/rgb-vecs/rgb-vec-'+str(fid)+'.csv')\n",
        "    fid += 1"
      ],
      "execution_count": 10,
      "outputs": [
        {
          "output_type": "stream",
          "text": [
            "   Unnamed: 0       word         x         y         z      r      g      b\n",
            "1           1  purchased -3.233436 -2.716032 -3.202593   10.0   16.0   10.0\n",
            "2           2       this  0.945580 -2.704733 -1.545107  184.0   16.0   45.0\n",
            "3           3       item -2.688989  0.083493  2.468808   16.0  133.0  235.0\n",
            "4           4      about -0.155559 -0.743430  1.448126  118.0   82.0  206.0\n",
            "5           5          3  0.897639 -0.818936  1.497294  181.0   78.0  208.0\n"
          ],
          "name": "stdout"
        },
        {
          "output_type": "stream",
          "text": [
            "/usr/local/lib/python3.6/dist-packages/ipykernel_launcher.py:6: TqdmDeprecationWarning: This function will be removed in tqdm==5.0.0\n",
            "Please use `tqdm.notebook.tqdm` instead of `tqdm.tqdm_notebook`\n",
            "  \n"
          ],
          "name": "stderr"
        },
        {
          "output_type": "display_data",
          "data": {
            "application/vnd.jupyter.widget-view+json": {
              "model_id": "4fbdb6365a3f4601a733ca2668112b4a",
              "version_minor": 0,
              "version_major": 2
            },
            "text/plain": [
              "HBox(children=(FloatProgress(value=0.0, max=11.0), HTML(value='')))"
            ]
          },
          "metadata": {
            "tags": []
          }
        },
        {
          "output_type": "stream",
          "text": [
            "/usr/local/lib/python3.6/dist-packages/ipykernel_launcher.py:8: SettingWithCopyWarning: \n",
            "A value is trying to be set on a copy of a slice from a DataFrame\n",
            "\n",
            "See the caveats in the documentation: https://pandas.pydata.org/pandas-docs/stable/user_guide/indexing.html#returning-a-view-versus-a-copy\n",
            "  \n",
            "/usr/local/lib/python3.6/dist-packages/ipykernel_launcher.py:8: SettingWithCopyWarning: \n",
            "A value is trying to be set on a copy of a slice from a DataFrame\n",
            "\n",
            "See the caveats in the documentation: https://pandas.pydata.org/pandas-docs/stable/user_guide/indexing.html#returning-a-view-versus-a-copy\n",
            "  \n"
          ],
          "name": "stderr"
        },
        {
          "output_type": "stream",
          "text": [
            "\n"
          ],
          "name": "stdout"
        }
      ]
    },
    {
      "cell_type": "code",
      "metadata": {
        "id": "OGnk8wmR1m8d",
        "colab_type": "code",
        "colab": {}
      },
      "source": [
        "# terminate the notebook\n",
        "import os\n",
        "os.kill(os.getpid(), 9)"
      ],
      "execution_count": 0,
      "outputs": []
    },
    {
      "cell_type": "code",
      "metadata": {
        "id": "Pti97KAjk0h6",
        "colab_type": "code",
        "colab": {}
      },
      "source": [
        ""
      ],
      "execution_count": 0,
      "outputs": []
    }
  ]
}